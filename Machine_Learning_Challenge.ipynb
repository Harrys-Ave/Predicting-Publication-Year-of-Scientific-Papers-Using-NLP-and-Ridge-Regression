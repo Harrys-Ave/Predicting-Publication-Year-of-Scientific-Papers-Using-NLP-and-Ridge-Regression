{
 "cells": [
  {
   "cell_type": "code",
   "execution_count": 14,
   "metadata": {},
   "outputs": [],
   "source": [
    "import pandas as pd\n",
    "import logging\n",
    "import json\n",
    "from sklearn.model_selection import train_test_split, cross_val_score\n",
    "from sklearn.compose import ColumnTransformer\n",
    "from sklearn.pipeline import make_pipeline\n",
    "from sklearn.linear_model import Ridge\n",
    "from sklearn.metrics import mean_absolute_error\n",
    "import matplotlib.pyplot as plt \n",
    "from sklearn.impute import SimpleImputer\n",
    "from sklearn.feature_extraction.text import HashingVectorizer\n",
    "import seaborn as sns\n",
    "import matplotlib.pyplot as plt\n",
    "import numpy as np\n",
    "from sklearn.decomposition import TruncatedSVD\n",
    "from sklearn.ensemble import RandomForestRegressor"
   ]
  },
  {
   "cell_type": "code",
   "execution_count": 15,
   "metadata": {},
   "outputs": [
    {
     "name": "stderr",
     "output_type": "stream",
     "text": [
      "INFO:root:Loading training/test data\n"
     ]
    },
    {
     "name": "stdout",
     "output_type": "stream",
     "text": [
      "unique publishers: 120\n",
      "Missing train data: ENTRYTYPE        0\n",
      "title            0\n",
      "editor       64438\n",
      "year             0\n",
      "publisher     8201\n",
      "author        2399\n",
      "abstract     33531\n",
      "dtype: int64\n",
      "###\n",
      "Missing test data: ENTRYTYPE        0\n",
      "title            0\n",
      "editor       21479\n",
      "publisher     2813\n",
      "author         831\n",
      "abstract     11278\n",
      "dtype: int64\n",
      "moving on creating new variables\n"
     ]
    },
    {
     "data": {
      "image/png": "[encoded data removed]",
      "text/plain": [
       "<Figure size 640x480 with 1 Axes>"
      ]
     },
     "metadata": {},
     "output_type": "display_data"
    }
   ],
   "source": [
    "#--- Preprocessing of data ---\n",
    "\n",
    "logging.getLogger().setLevel(logging.INFO)\n",
    "logging.info(\"Loading training/test data\")\n",
    "train = pd.DataFrame.from_records(json.load(open('train.json')))\n",
    "test = pd.DataFrame.from_records(json.load(open('test.json')))\n",
    "# Function to handle joining lists or leave strings unchanged\n",
    "def join_or_leave(x):\n",
    "    if isinstance(x, list):\n",
    "        return ', '.join(x)\n",
    "    else:\n",
    "        return x\n",
    "\n",
    "# Transform columns that are lists to strings\n",
    "train['author'] = train['author'].apply(join_or_leave)\n",
    "train['editor'] = train['editor'].apply(join_or_leave)\n",
    "#train['year'] = pd.to_numeric(train['year'], errors=\"coerce\")\n",
    "#train.year = pd.to_numeric(train.year, errors=\"coerce\")\n",
    "test['author'] = test['author'].apply(join_or_leave)\n",
    "test['editor'] = test['editor'].apply(join_or_leave)   \n",
    "\n",
    "unique_publishers = train['publisher'].nunique()\n",
    "print(f\"unique publishers: {unique_publishers}\")\n",
    "print(\"Missing train data:\", train.isna().sum())\n",
    "print(\"###\")\n",
    "print(\"Missing test data:\", test.isna().sum())\n",
    "print(\"moving on creating new variables\")\n",
    "\n",
    "\n",
    "# Convert 'year' to numeric type and create boxplot\n",
    "train['year'] = pd.to_numeric(train['year'], errors='coerce')\n",
    "#convert year on train into integers\n",
    "train['year'] = train['year'].astype('Int64')\n",
    "\n",
    "sns.boxplot(x=train[\"year\"])\n",
    "plt.title(f'Box Plot for {\"year\"}')\n",
    "plt.show()\n",
    "\n",
    "# Remove outliers based on boxplot whiskers \n",
    "q1 = train['year'].quantile(0.25)\n",
    "q3 = train['year'].quantile(0.75)\n",
    "iqr = q3 - q1\n",
    "lower_bound = q1 - 1.5 * iqr\n",
    "upper_bound = q3 + 1.5 * iqr\n",
    "\n",
    "#update train dataset with not having the outliers and use boxplot again (overfits our model)\n",
    "#train = train[(train['year'] >= lower_bound) & (train['year'] <= upper_bound)]"
   ]
  },
  {
   "cell_type": "code",
   "execution_count": 16,
   "metadata": {},
   "outputs": [
    {
     "name": "stdout",
     "output_type": "stream",
     "text": [
      "Imputing missing data works\n",
      "Missing train data: ENTRYTYPE    0\n",
      "title        0\n",
      "editor       0\n",
      "year         0\n",
      "publisher    0\n",
      "author       0\n",
      "abstract     0\n",
      "dtype: int64\n",
      "###\n",
      "Missing test data: ENTRYTYPE    0\n",
      "title        0\n",
      "editor       0\n",
      "publisher    0\n",
      "author       0\n",
      "abstract     0\n",
      "dtype: int64\n"
     ]
    }
   ],
   "source": [
    "# --- Imputing Missing Data ---\n",
    "\n",
    "train = train.fillna(\"\")\n",
    "test = test.fillna(\"\")\n",
    "\n",
    "imp = SimpleImputer(missing_values=\"\", strategy=\"constant\")\n",
    "imputer_train = imp.fit(train)\n",
    "train = pd.DataFrame(imputer_train.fit_transform(train), columns=train.columns)\n",
    "imputer_test = imp.fit(test)\n",
    "test = pd.DataFrame(imputer_test.transform(test), columns=test.columns)\n",
    "print(\"Imputing missing data works\")\n",
    "print(\"Missing train data:\", train.isna().sum())\n",
    "print(\"###\")\n",
    "print(\"Missing test data:\", test.isna().sum())\n",
    "\n",
    "train.drop_duplicates([\"title\"], inplace=True)"
   ]
  },
  {
   "cell_type": "code",
   "execution_count": 17,
   "metadata": {},
   "outputs": [
    {
     "name": "stderr",
     "output_type": "stream",
     "text": [
      "INFO:root:Splitting validation\n"
     ]
    },
    {
     "name": "stdout",
     "output_type": "stream",
     "text": [
      "(52251, 5242880)\n"
     ]
    }
   ],
   "source": [
    "# --- Spliting data, Encoding, Hyperparameter tuning ---\n",
    "\n",
    "logging.info(\"Splitting validation\")\n",
    "train, val = train_test_split(train, stratify=train['year'], random_state=123, test_size=0.2)\n",
    "\n",
    "featurizer = ColumnTransformer(\n",
    "    transformers=[(\"title\", HashingVectorizer(ngram_range=(1,2)), \"title\"), \n",
    "        (\"publisher\", HashingVectorizer(ngram_range=(1,2)), \"publisher\"), \n",
    "        (\"ENTRYTYPE\",HashingVectorizer(ngram_range=(1,1)), \"ENTRYTYPE\"), \n",
    "        (\"author\", HashingVectorizer(ngram_range=(1,2)), \"author\"), \n",
    "        (\"abstract\",HashingVectorizer(ngram_range=(1,1)), \"abstract\") \n",
    "        ],\n",
    "remainder='drop')\n",
    "\n",
    "print(featurizer.fit_transform(train).shape) #(52251, 5242880)"
   ]
  },
  {
   "cell_type": "code",
   "execution_count": 18,
   "metadata": {},
   "outputs": [
    {
     "name": "stderr",
     "output_type": "stream",
     "text": [
      "INFO:root:Fitting models\n"
     ]
    },
    {
     "data": {
      "text/html": [
       "<style>#sk-container-id-3 {color: black;}#sk-container-id-3 pre{padding: 0;}#sk-container-id-3 div.sk-toggleable {background-color: white;}#sk-container-id-3 label.sk-toggleable__label {cursor: pointer;display: block;width: 100%;margin-bottom: 0;padding: 0.3em;box-sizing: border-box;text-align: center;}#sk-container-id-3 label.sk-toggleable__label-arrow:before {content: \"▸\";float: left;margin-right: 0.25em;color: #696969;}#sk-container-id-3 label.sk-toggleable__label-arrow:hover:before {color: black;}#sk-container-id-3 div.sk-estimator:hover label.sk-toggleable__label-arrow:before {color: black;}#sk-container-id-3 div.sk-toggleable__content {max-height: 0;max-width: 0;overflow: hidden;text-align: left;background-color: #f0f8ff;}#sk-container-id-3 div.sk-toggleable__content pre {margin: 0.2em;color: black;border-radius: 0.25em;background-color: #f0f8ff;}#sk-container-id-3 input.sk-toggleable__control:checked~div.sk-toggleable__content {max-height: 200px;max-width: 100%;overflow: auto;}#sk-container-id-3 input.sk-toggleable__control:checked~label.sk-toggleable__label-arrow:before {content: \"▾\";}#sk-container-id-3 div.sk-estimator input.sk-toggleable__control:checked~label.sk-toggleable__label {background-color: #d4ebff;}#sk-container-id-3 div.sk-label input.sk-toggleable__control:checked~label.sk-toggleable__label {background-color: #d4ebff;}#sk-container-id-3 input.sk-hidden--visually {border: 0;clip: rect(1px 1px 1px 1px);clip: rect(1px, 1px, 1px, 1px);height: 1px;margin: -1px;overflow: hidden;padding: 0;position: absolute;width: 1px;}#sk-container-id-3 div.sk-estimator {font-family: monospace;background-color: #f0f8ff;border: 1px dotted black;border-radius: 0.25em;box-sizing: border-box;margin-bottom: 0.5em;}#sk-container-id-3 div.sk-estimator:hover {background-color: #d4ebff;}#sk-container-id-3 div.sk-parallel-item::after {content: \"\";width: 100%;border-bottom: 1px solid gray;flex-grow: 1;}#sk-container-id-3 div.sk-label:hover label.sk-toggleable__label {background-color: #d4ebff;}#sk-container-id-3 div.sk-serial::before {content: \"\";position: absolute;border-left: 1px solid gray;box-sizing: border-box;top: 0;bottom: 0;left: 50%;z-index: 0;}#sk-container-id-3 div.sk-serial {display: flex;flex-direction: column;align-items: center;background-color: white;padding-right: 0.2em;padding-left: 0.2em;position: relative;}#sk-container-id-3 div.sk-item {position: relative;z-index: 1;}#sk-container-id-3 div.sk-parallel {display: flex;align-items: stretch;justify-content: center;background-color: white;position: relative;}#sk-container-id-3 div.sk-item::before, #sk-container-id-3 div.sk-parallel-item::before {content: \"\";position: absolute;border-left: 1px solid gray;box-sizing: border-box;top: 0;bottom: 0;left: 50%;z-index: -1;}#sk-container-id-3 div.sk-parallel-item {display: flex;flex-direction: column;z-index: 1;position: relative;background-color: white;}#sk-container-id-3 div.sk-parallel-item:first-child::after {align-self: flex-end;width: 50%;}#sk-container-id-3 div.sk-parallel-item:last-child::after {align-self: flex-start;width: 50%;}#sk-container-id-3 div.sk-parallel-item:only-child::after {width: 0;}#sk-container-id-3 div.sk-dashed-wrapped {border: 1px dashed gray;margin: 0 0.4em 0.5em 0.4em;box-sizing: border-box;padding-bottom: 0.4em;background-color: white;}#sk-container-id-3 div.sk-label label {font-family: monospace;font-weight: bold;display: inline-block;line-height: 1.2em;}#sk-container-id-3 div.sk-label-container {text-align: center;}#sk-container-id-3 div.sk-container {/* jupyter's `normalize.less` sets `[hidden] { display: none; }` but bootstrap.min.css set `[hidden] { display: none !important; }` so we also need the `!important` here to be able to override the default hidden behavior on the sphinx rendered scikit-learn.org. See: https://github.com/scikit-learn/scikit-learn/issues/21755 */display: inline-block !important;position: relative;}#sk-container-id-3 div.sk-text-repr-fallback {display: none;}</style><div id=\"sk-container-id-3\" class=\"sk-top-container\"><div class=\"sk-text-repr-fallback\"><pre>Pipeline(steps=[(&#x27;columntransformer&#x27;,\n",
       "                 ColumnTransformer(transformers=[(&#x27;title&#x27;,\n",
       "                                                  HashingVectorizer(ngram_range=(1,\n",
       "                                                                                 2)),\n",
       "                                                  &#x27;title&#x27;),\n",
       "                                                 (&#x27;publisher&#x27;,\n",
       "                                                  HashingVectorizer(ngram_range=(1,\n",
       "                                                                                 2)),\n",
       "                                                  &#x27;publisher&#x27;),\n",
       "                                                 (&#x27;ENTRYTYPE&#x27;,\n",
       "                                                  HashingVectorizer(),\n",
       "                                                  &#x27;ENTRYTYPE&#x27;),\n",
       "                                                 (&#x27;author&#x27;,\n",
       "                                                  HashingVectorizer(ngram_range=(1,\n",
       "                                                                                 2)),\n",
       "                                                  &#x27;author&#x27;),\n",
       "                                                 (&#x27;abstract&#x27;,\n",
       "                                                  HashingVectorizer(),\n",
       "                                                  &#x27;abstract&#x27;)])),\n",
       "                (&#x27;ridge&#x27;, Ridge())])</pre><b>In a Jupyter environment, please rerun this cell to show the HTML representation or trust the notebook. <br />On GitHub, the HTML representation is unable to render, please try loading this page with nbviewer.org.</b></div><div class=\"sk-container\" hidden><div class=\"sk-item sk-dashed-wrapped\"><div class=\"sk-label-container\"><div class=\"sk-label sk-toggleable\"><input class=\"sk-toggleable__control sk-hidden--visually\" id=\"sk-estimator-id-27\" type=\"checkbox\" ><label for=\"sk-estimator-id-27\" class=\"sk-toggleable__label sk-toggleable__label-arrow\">Pipeline</label><div class=\"sk-toggleable__content\"><pre>Pipeline(steps=[(&#x27;columntransformer&#x27;,\n",
       "                 ColumnTransformer(transformers=[(&#x27;title&#x27;,\n",
       "                                                  HashingVectorizer(ngram_range=(1,\n",
       "                                                                                 2)),\n",
       "                                                  &#x27;title&#x27;),\n",
       "                                                 (&#x27;publisher&#x27;,\n",
       "                                                  HashingVectorizer(ngram_range=(1,\n",
       "                                                                                 2)),\n",
       "                                                  &#x27;publisher&#x27;),\n",
       "                                                 (&#x27;ENTRYTYPE&#x27;,\n",
       "                                                  HashingVectorizer(),\n",
       "                                                  &#x27;ENTRYTYPE&#x27;),\n",
       "                                                 (&#x27;author&#x27;,\n",
       "                                                  HashingVectorizer(ngram_range=(1,\n",
       "                                                                                 2)),\n",
       "                                                  &#x27;author&#x27;),\n",
       "                                                 (&#x27;abstract&#x27;,\n",
       "                                                  HashingVectorizer(),\n",
       "                                                  &#x27;abstract&#x27;)])),\n",
       "                (&#x27;ridge&#x27;, Ridge())])</pre></div></div></div><div class=\"sk-serial\"><div class=\"sk-item sk-dashed-wrapped\"><div class=\"sk-label-container\"><div class=\"sk-label sk-toggleable\"><input class=\"sk-toggleable__control sk-hidden--visually\" id=\"sk-estimator-id-28\" type=\"checkbox\" ><label for=\"sk-estimator-id-28\" class=\"sk-toggleable__label sk-toggleable__label-arrow\">columntransformer: ColumnTransformer</label><div class=\"sk-toggleable__content\"><pre>ColumnTransformer(transformers=[(&#x27;title&#x27;, HashingVectorizer(ngram_range=(1, 2)),\n",
       "                                 &#x27;title&#x27;),\n",
       "                                (&#x27;publisher&#x27;,\n",
       "                                 HashingVectorizer(ngram_range=(1, 2)),\n",
       "                                 &#x27;publisher&#x27;),\n",
       "                                (&#x27;ENTRYTYPE&#x27;, HashingVectorizer(), &#x27;ENTRYTYPE&#x27;),\n",
       "                                (&#x27;author&#x27;,\n",
       "                                 HashingVectorizer(ngram_range=(1, 2)),\n",
       "                                 &#x27;author&#x27;),\n",
       "                                (&#x27;abstract&#x27;, HashingVectorizer(), &#x27;abstract&#x27;)])</pre></div></div></div><div class=\"sk-parallel\"><div class=\"sk-parallel-item\"><div class=\"sk-item\"><div class=\"sk-label-container\"><div class=\"sk-label sk-toggleable\"><input class=\"sk-toggleable__control sk-hidden--visually\" id=\"sk-estimator-id-29\" type=\"checkbox\" ><label for=\"sk-estimator-id-29\" class=\"sk-toggleable__label sk-toggleable__label-arrow\">title</label><div class=\"sk-toggleable__content\"><pre>title</pre></div></div></div><div class=\"sk-serial\"><div class=\"sk-item\"><div class=\"sk-estimator sk-toggleable\"><input class=\"sk-toggleable__control sk-hidden--visually\" id=\"sk-estimator-id-30\" type=\"checkbox\" ><label for=\"sk-estimator-id-30\" class=\"sk-toggleable__label sk-toggleable__label-arrow\">HashingVectorizer</label><div class=\"sk-toggleable__content\"><pre>HashingVectorizer(ngram_range=(1, 2))</pre></div></div></div></div></div></div><div class=\"sk-parallel-item\"><div class=\"sk-item\"><div class=\"sk-label-container\"><div class=\"sk-label sk-toggleable\"><input class=\"sk-toggleable__control sk-hidden--visually\" id=\"sk-estimator-id-31\" type=\"checkbox\" ><label for=\"sk-estimator-id-31\" class=\"sk-toggleable__label sk-toggleable__label-arrow\">publisher</label><div class=\"sk-toggleable__content\"><pre>publisher</pre></div></div></div><div class=\"sk-serial\"><div class=\"sk-item\"><div class=\"sk-estimator sk-toggleable\"><input class=\"sk-toggleable__control sk-hidden--visually\" id=\"sk-estimator-id-32\" type=\"checkbox\" ><label for=\"sk-estimator-id-32\" class=\"sk-toggleable__label sk-toggleable__label-arrow\">HashingVectorizer</label><div class=\"sk-toggleable__content\"><pre>HashingVectorizer(ngram_range=(1, 2))</pre></div></div></div></div></div></div><div class=\"sk-parallel-item\"><div class=\"sk-item\"><div class=\"sk-label-container\"><div class=\"sk-label sk-toggleable\"><input class=\"sk-toggleable__control sk-hidden--visually\" id=\"sk-estimator-id-33\" type=\"checkbox\" ><label for=\"sk-estimator-id-33\" class=\"sk-toggleable__label sk-toggleable__label-arrow\">ENTRYTYPE</label><div class=\"sk-toggleable__content\"><pre>ENTRYTYPE</pre></div></div></div><div class=\"sk-serial\"><div class=\"sk-item\"><div class=\"sk-estimator sk-toggleable\"><input class=\"sk-toggleable__control sk-hidden--visually\" id=\"sk-estimator-id-34\" type=\"checkbox\" ><label for=\"sk-estimator-id-34\" class=\"sk-toggleable__label sk-toggleable__label-arrow\">HashingVectorizer</label><div class=\"sk-toggleable__content\"><pre>HashingVectorizer()</pre></div></div></div></div></div></div><div class=\"sk-parallel-item\"><div class=\"sk-item\"><div class=\"sk-label-container\"><div class=\"sk-label sk-toggleable\"><input class=\"sk-toggleable__control sk-hidden--visually\" id=\"sk-estimator-id-35\" type=\"checkbox\" ><label for=\"sk-estimator-id-35\" class=\"sk-toggleable__label sk-toggleable__label-arrow\">author</label><div class=\"sk-toggleable__content\"><pre>author</pre></div></div></div><div class=\"sk-serial\"><div class=\"sk-item\"><div class=\"sk-estimator sk-toggleable\"><input class=\"sk-toggleable__control sk-hidden--visually\" id=\"sk-estimator-id-36\" type=\"checkbox\" ><label for=\"sk-estimator-id-36\" class=\"sk-toggleable__label sk-toggleable__label-arrow\">HashingVectorizer</label><div class=\"sk-toggleable__content\"><pre>HashingVectorizer(ngram_range=(1, 2))</pre></div></div></div></div></div></div><div class=\"sk-parallel-item\"><div class=\"sk-item\"><div class=\"sk-label-container\"><div class=\"sk-label sk-toggleable\"><input class=\"sk-toggleable__control sk-hidden--visually\" id=\"sk-estimator-id-37\" type=\"checkbox\" ><label for=\"sk-estimator-id-37\" class=\"sk-toggleable__label sk-toggleable__label-arrow\">abstract</label><div class=\"sk-toggleable__content\"><pre>abstract</pre></div></div></div><div class=\"sk-serial\"><div class=\"sk-item\"><div class=\"sk-estimator sk-toggleable\"><input class=\"sk-toggleable__control sk-hidden--visually\" id=\"sk-estimator-id-38\" type=\"checkbox\" ><label for=\"sk-estimator-id-38\" class=\"sk-toggleable__label sk-toggleable__label-arrow\">HashingVectorizer</label><div class=\"sk-toggleable__content\"><pre>HashingVectorizer()</pre></div></div></div></div></div></div></div></div><div class=\"sk-item\"><div class=\"sk-estimator sk-toggleable\"><input class=\"sk-toggleable__control sk-hidden--visually\" id=\"sk-estimator-id-39\" type=\"checkbox\" ><label for=\"sk-estimator-id-39\" class=\"sk-toggleable__label sk-toggleable__label-arrow\">Ridge</label><div class=\"sk-toggleable__content\"><pre>Ridge()</pre></div></div></div></div></div></div></div>"
      ],
      "text/plain": [
       "Pipeline(steps=[('columntransformer',\n",
       "                 ColumnTransformer(transformers=[('title',\n",
       "                                                  HashingVectorizer(ngram_range=(1,\n",
       "                                                                                 2)),\n",
       "                                                  'title'),\n",
       "                                                 ('publisher',\n",
       "                                                  HashingVectorizer(ngram_range=(1,\n",
       "                                                                                 2)),\n",
       "                                                  'publisher'),\n",
       "                                                 ('ENTRYTYPE',\n",
       "                                                  HashingVectorizer(),\n",
       "                                                  'ENTRYTYPE'),\n",
       "                                                 ('author',\n",
       "                                                  HashingVectorizer(ngram_range=(1,\n",
       "                                                                                 2)),\n",
       "                                                  'author'),\n",
       "                                                 ('abstract',\n",
       "                                                  HashingVectorizer(),\n",
       "                                                  'abstract')])),\n",
       "                ('ridge', Ridge())])"
      ]
     },
     "execution_count": 18,
     "metadata": {},
     "output_type": "execute_result"
    }
   ],
   "source": [
    "# creating models\n",
    "ridge = make_pipeline(featurizer, Ridge())  \n",
    "\n",
    "logging.info(\"Fitting models\")\n",
    "ridge.fit(train.drop('year', axis=1), train['year'].values)\n"
   ]
  },
  {
   "cell_type": "code",
   "execution_count": 19,
   "metadata": {},
   "outputs": [
    {
     "name": "stderr",
     "output_type": "stream",
     "text": [
      "INFO:root:Ridge regress MAE with clipping: 3.2661573227328735\n",
      "INFO:root:Writing prediction file\n"
     ]
    }
   ],
   "source": [
    "# --- Evaluating ---\n",
    "\n",
    "pred_ridge = ridge.predict(val.drop('year', axis=1))\n",
    "pred_ridge_clipped = np.clip(pred_ridge, None, 2023)\n",
    "err_ridge = mean_absolute_error(val['year'].values, pred_ridge_clipped)\n",
    "logging.info(f\"Ridge regress MAE with clipping: {err_ridge}\")\n",
    "\n",
    "# Combining train and validation sets\n",
    "combined_train = pd.concat([train, val], axis=0)\n",
    "\n",
    "#re-fitting the best model\n",
    "ridge = make_pipeline(featurizer, Ridge())\n",
    "ridge.fit(combined_train.drop('year', axis=1), combined_train['year'].values)\n",
    "\n",
    "# logging.info(f\"Predicting on test\")\n",
    "pred = ridge.predict(test)\n",
    "pred_clipped = np.clip(pred, None, 2023)\n",
    "pred = pred_clipped.round().astype(int)\n",
    "test['year'] = pred\n",
    "logging.info(\"Writing prediction file\")\n",
    "test.to_json(\"predicted.json\", orient='records', indent=2)"
   ]
  },
  {
   "cell_type": "code",
   "execution_count": null,
   "metadata": {},
   "outputs": [],
   "source": []
  }
 ],
 "metadata": {
  "kernelspec": {
   "display_name": "Python 3",
   "language": "python",
   "name": "python3"
  },
  "language_info": {
   "codemirror_mode": {
    "name": "ipython",
    "version": 3
   },
   "file_extension": ".py",
   "mimetype": "text/x-python",
   "name": "python",
   "nbconvert_exporter": "python",
   "pygments_lexer": "ipython3",
   "version": "3.11.4"
  }
 },
 "nbformat": 4,
 "nbformat_minor": 2
}
